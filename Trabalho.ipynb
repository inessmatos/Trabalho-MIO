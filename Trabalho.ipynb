{
 "cells": [
  {
   "cell_type": "markdown",
   "metadata": {},
   "source": [
    "Trabalho - Métodos de Investigação Operacional"
   ]
  },
  {
   "cell_type": "code",
   "execution_count": 2,
   "metadata": {},
   "outputs": [],
   "source": [
    "from pulp import *"
   ]
  },
  {
   "cell_type": "code",
   "execution_count": 3,
   "metadata": {},
   "outputs": [],
   "source": [
    "# Criar o problema de maximização\n",
    "prob = LpProblem(\"Plano_Ótimo_de_Financiamento\", LpMaximize)"
   ]
  },
  {
   "cell_type": "code",
   "execution_count": 4,
   "metadata": {},
   "outputs": [],
   "source": [
    "# ====== VARIÁVEIS DE DECISÃO ======\n",
    "# Variáveis para linha de crédito (L_t)\n",
    "L = {t: LpVariable(f\"L_{t}\", lowBound=0, upBound=100) for t in range(1, 7)}\n",
    "\n",
    "# Variáveis para papel comercial emitido nos dois primeiros meses (P_{t3})\n",
    "P = {t: LpVariable(f\"P_{t}_3\", lowBound=0) for t in range(1, 3)}\n",
    "\n",
    "# Variáveis para investimento (I_t)\n",
    "I = {t: LpVariable(f\"I_{t}\", lowBound=0) for t in range(1, 7)}\n",
    "\n",
    "# Variáveis para saldo de caixa (S_t)\n",
    "S = {t: LpVariable(f\"S_{t}\", lowBound=0) for t in range(1, 7)}"
   ]
  },
  {
   "cell_type": "code",
   "execution_count": 5,
   "metadata": {},
   "outputs": [],
   "source": [
    "# ====== DADOS DO PROBLEMA ======\n",
    "fluxo_caixa = [-100, -200, 100, -150, 550, -100]  # Fluxos de caixa mensais (em milhares de euros)"
   ]
  },
  {
   "cell_type": "code",
   "execution_count": 6,
   "metadata": {},
   "outputs": [],
   "source": [
    "# ====== FUNÇÃO OBJETIVO ======\n",
    "# Maximizar o saldo de caixa no final de junho\n",
    "prob += S[6], \"Saldo_Final_Junho\""
   ]
  },
  {
   "cell_type": "code",
   "execution_count": 7,
   "metadata": {},
   "outputs": [],
   "source": [
    "# ====== RESTRIÇÕES ======\n",
    "for t in range(1, 7):\n",
    "    if t == 1:  # Janeiro (primeiro mês)\n",
    "        prob += S[t] == fluxo_caixa[t - 1] + L[t] + P.get(t, 0) - I[t]\n",
    "    elif t == 2:  # Fevereiro\n",
    "        prob += S[t] == S[t - 1] + fluxo_caixa[t - 1] + L[t] + P.get(t, 0) - (1.01 * L[t - 1]) - I[t]\n",
    "    elif t == 3:  # Março\n",
    "        prob += S[t] == S[t - 1] + fluxo_caixa[t - 1] + L[t] - (1.01 * L[t - 1]) - I[t]\n",
    "    elif t == 4:  # Abril (reembolso de P_1_3)\n",
    "        prob += S[t] == S[t - 1] + fluxo_caixa[t - 1] + L[t] - (1.01 * L[t - 1]) - (1.02 * P.get(1, 0)) - I[t]\n",
    "    elif t == 5:  # Maio (reembolso de P_2_3)\n",
    "        prob += S[t] == S[t - 1] + fluxo_caixa[t - 1] + L[t] - (1.01 * L[t - 1]) - (1.02 * P.get(2, 0)) - I[t]\n",
    "    else:  # Junho (último mês)\n",
    "        prob += S[t] == S[t - 1] + fluxo_caixa[t - 1] + L[t] - (1.01 * L[t - 1]) - I[t] + (0.001 * I[t - 1])\n"
   ]
  },
  {
   "cell_type": "code",
   "execution_count": 8,
   "metadata": {},
   "outputs": [
    {
     "data": {
      "text/plain": [
       "1"
      ]
     },
     "execution_count": 8,
     "metadata": {},
     "output_type": "execute_result"
    }
   ],
   "source": [
    "# ====== RESOLVER O MODELO ======\n",
    "prob.solve()"
   ]
  },
  {
   "cell_type": "code",
   "execution_count": 9,
   "metadata": {},
   "outputs": [
    {
     "name": "stdout",
     "output_type": "stream",
     "text": [
      "Status: Optimal\n",
      "\n",
      "Solução Ótima:\n",
      "Saldo final no mês 1: 0.00 mil euros\n",
      "  Linha de crédito (L_1): 50.98 mil euros\n",
      "  Investimento (I_1): 0.00 mil euros\n",
      "  Papel comercial emitido (P_1_3): 49.02 mil euros\n",
      "----------------------------------------\n",
      "Saldo final no mês 2: 0.00 mil euros\n",
      "  Linha de crédito (L_2): 0.00 mil euros\n",
      "  Investimento (I_2): 0.00 mil euros\n",
      "  Papel comercial emitido (P_2_3): 251.49 mil euros\n",
      "----------------------------------------\n",
      "Saldo final no mês 3: 100.00 mil euros\n",
      "  Linha de crédito (L_3): 0.00 mil euros\n",
      "  Investimento (I_3): 0.00 mil euros\n",
      "----------------------------------------\n",
      "Saldo final no mês 4: 0.00 mil euros\n",
      "  Linha de crédito (L_4): 100.00 mil euros\n",
      "  Investimento (I_4): 0.00 mil euros\n",
      "----------------------------------------\n",
      "Saldo final no mês 5: 192.48 mil euros\n",
      "  Linha de crédito (L_5): 0.00 mil euros\n",
      "  Investimento (I_5): 0.00 mil euros\n",
      "----------------------------------------\n",
      "Saldo final no mês 6: 192.48 mil euros\n",
      "  Linha de crédito (L_6): 100.00 mil euros\n",
      "  Investimento (I_6): 0.00 mil euros\n",
      "----------------------------------------\n"
     ]
    }
   ],
   "source": [
    "# ====== RESULTADOS ======\n",
    "# Status do problema\n",
    "print(\"Status:\", LpStatus[prob.status])\n",
    "\n",
    "# Solução ótima\n",
    "print(\"\\nSolução Ótima:\")\n",
    "for t in range(1, 7):\n",
    "    print(f\"Saldo final no mês {t}: {S[t].varValue:.2f} mil euros\")\n",
    "    print(f\"  Linha de crédito (L_{t}): {L[t].varValue:.2f} mil euros\")\n",
    "    print(f\"  Investimento (I_{t}): {I[t].varValue:.2f} mil euros\")\n",
    "    if t <= 2:\n",
    "        print(f\"  Papel comercial emitido (P_{t}_3): {P[t].varValue:.2f} mil euros\")\n",
    "    print(\"-\" * 40)"
   ]
  },
  {
   "cell_type": "code",
   "execution_count": 10,
   "metadata": {},
   "outputs": [
    {
     "name": "stdout",
     "output_type": "stream",
     "text": [
      "\n",
      "Saldo final em junho (função objetivo): 192.48 mil euros\n"
     ]
    }
   ],
   "source": [
    "# Valor da função objetivo\n",
    "print(\"\\nSaldo final em junho (função objetivo):\", S[6].varValue, \"mil euros\")"
   ]
  },
  {
   "cell_type": "code",
   "execution_count": 11,
   "metadata": {},
   "outputs": [
    {
     "name": "stdout",
     "output_type": "stream",
     "text": [
      "\n",
      "Variáveis de Folga:\n",
      "_C1: -0.00\n",
      "_C2: -0.00\n",
      "_C3: -0.00\n",
      "_C4: -0.00\n",
      "_C5: -0.00\n",
      "_C6: -0.00\n"
     ]
    }
   ],
   "source": [
    "# Variáveis de folga\n",
    "print(\"\\nVariáveis de Folga:\")\n",
    "for nome, restricao in prob.constraints.items():\n",
    "    print(f\"{nome}: {restricao.slack:.2f}\")"
   ]
  },
  {
   "cell_type": "markdown",
   "metadata": {},
   "source": [
    "Problema Dual"
   ]
  },
  {
   "cell_type": "code",
   "execution_count": 12,
   "metadata": {},
   "outputs": [],
   "source": [
    "from pulp import *"
   ]
  },
  {
   "cell_type": "code",
   "execution_count": 13,
   "metadata": {},
   "outputs": [],
   "source": [
    "# Criar o problema de minimização\n",
    "dual_problem = LpProblem(\"Problema_Dual\", LpMinimize)"
   ]
  },
  {
   "cell_type": "code",
   "execution_count": 14,
   "metadata": {},
   "outputs": [],
   "source": [
    "# ====== VARIÁVEIS DE DECISÃO ======\n",
    "y1 = LpVariable(\"y1\", lowBound=0, cat='Continuous')\n",
    "y2 = LpVariable(\"y2\", lowBound=0, cat='Continuous')\n",
    "y3 = LpVariable(\"y3\", lowBound=0, cat='Continuous')\n",
    "y4 = LpVariable(\"y4\", lowBound=0, cat='Continuous')\n",
    "y5 = LpVariable(\"y5\", lowBound=0, cat='Continuous')\n",
    "y6 = LpVariable(\"y6\", lowBound=0, cat='Continuous')\n",
    "lambda1 = LpVariable(\"lambda1\", lowBound=0, cat='Continuous')\n",
    "lambda2 = LpVariable(\"lambda2\", lowBound=0, cat='Continuous')"
   ]
  },
  {
   "cell_type": "code",
   "execution_count": 15,
   "metadata": {},
   "outputs": [],
   "source": [
    "# Definir a função objetivo (custo mínimo)\n",
    "dual_problem += y1 * 100 + y2 * 200 + y3 * 100 + y4 * 150 + y5 * 550 + y6 * 100, \"Função Objetivo\"\n"
   ]
  },
  {
   "cell_type": "code",
   "execution_count": 16,
   "metadata": {},
   "outputs": [],
   "source": [
    "# Definir as restrições do problema dual\n",
    "dual_problem += y1 + y2 + y3 + y4 + y5 + y6 >= 1, \"Restrição de Fluxo de Caixa\"\n",
    "dual_problem += lambda1 >= 0, \"Restrição de Linha de Crédito\"\n",
    "dual_problem += lambda2 >= 0, \"Restrição de Papel Comercial\"\n",
    "dual_problem += y1*(-100) + y2*(-200) + y3*100 + y4*(-150) + y5*550 + y6*(-100) >= 0, \"Restrição de Balanço de Caixa\"\n"
   ]
  },
  {
   "cell_type": "code",
   "execution_count": 17,
   "metadata": {},
   "outputs": [
    {
     "data": {
      "text/plain": [
       "1"
      ]
     },
     "execution_count": 17,
     "metadata": {},
     "output_type": "execute_result"
    }
   ],
   "source": [
    "# Resolver o problema\n",
    "dual_problem.solve()"
   ]
  },
  {
   "cell_type": "code",
   "execution_count": 18,
   "metadata": {},
   "outputs": [
    {
     "name": "stdout",
     "output_type": "stream",
     "text": [
      "Solução ótima do problema dual:\n",
      "y1 = 0.5\n",
      "y2 = 0.0\n",
      "y3 = 0.5\n",
      "y4 = 0.0\n",
      "y5 = 0.0\n",
      "y6 = 0.0\n",
      "lambda1 = 0.0\n",
      "lambda2 = 0.0\n"
     ]
    }
   ],
   "source": [
    "# Exibir os resultados\n",
    "print(f\"Solução ótima do problema dual:\")\n",
    "print(f\"y1 = {y1.varValue}\")\n",
    "print(f\"y2 = {y2.varValue}\")\n",
    "print(f\"y3 = {y3.varValue}\")\n",
    "print(f\"y4 = {y4.varValue}\")\n",
    "print(f\"y5 = {y5.varValue}\")\n",
    "print(f\"y6 = {y6.varValue}\")\n",
    "print(f\"lambda1 = {lambda1.varValue}\")\n",
    "print(f\"lambda2 = {lambda2.varValue}\")"
   ]
  },
  {
   "cell_type": "code",
   "execution_count": null,
   "metadata": {},
   "outputs": [
    {
     "name": "stdout",
     "output_type": "stream",
     "text": [
      "Restrição_de_Fluxo_de_Caixa: -0.0\n",
      "Restrição_de_Linha_de_Crédito: -0.0\n",
      "Restrição_de_Papel_Comercial: -0.0\n",
      "Restrição_de_Balanço_de_Caixa: -0.0\n"
     ]
    }
   ],
   "source": [
    "# Exibir as variáveis de folga \n",
    "for name, constraint in dual_problem.constraints.items():\n",
    "    print(f\"{name}: {constraint.slack}\")"
   ]
  },
  {
   "cell_type": "code",
   "execution_count": 20,
   "metadata": {},
   "outputs": [
    {
     "name": "stdout",
     "output_type": "stream",
     "text": [
      "Preço sombra da restrição _C1: 1.0302\n",
      "Preço sombra da restrição _C2: 1.02\n",
      "Preço sombra da restrição _C3: 1.01\n",
      "Preço sombra da restrição _C4: 1.01\n",
      "Preço sombra da restrição _C5: 1.0\n",
      "Preço sombra da restrição _C6: 1.0\n"
     ]
    }
   ],
   "source": [
    "# Exibindo os preços sombra das restrições\n",
    "for name, constraint in prob.constraints.items():\n",
    "    print(f\"Preço sombra da restrição {name}: {constraint.pi}\")\n"
   ]
  }
 ],
 "metadata": {
  "kernelspec": {
   "display_name": "Python 3",
   "language": "python",
   "name": "python3"
  },
  "language_info": {
   "codemirror_mode": {
    "name": "ipython",
    "version": 3
   },
   "file_extension": ".py",
   "mimetype": "text/x-python",
   "name": "python",
   "nbconvert_exporter": "python",
   "pygments_lexer": "ipython3",
   "version": "3.13.0"
  }
 },
 "nbformat": 4,
 "nbformat_minor": 2
}
